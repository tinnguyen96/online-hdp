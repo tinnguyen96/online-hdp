{
 "cells": [
  {
   "cell_type": "code",
   "execution_count": 1,
   "metadata": {},
   "outputs": [],
   "source": [
    "from scipy.special import gammaln, psi, beta\n",
    "import numpy as np\n",
    "import matplotlib.pyplot as plt"
   ]
  },
  {
   "cell_type": "markdown",
   "metadata": {
    "heading_collapsed": true
   },
   "source": [
    "# Helper functions in utils"
   ]
  },
  {
   "cell_type": "code",
   "execution_count": null,
   "metadata": {
    "hidden": true
   },
   "outputs": [],
   "source": [
    "from utils import *"
   ]
  },
  {
   "cell_type": "markdown",
   "metadata": {
    "hidden": true
   },
   "source": [
    "## expect_log_sticks\n",
    "- $\\tau_1 = (1,2,1)$\n",
    "- $\\tau_2 = (3,5,0)$\n",
    "- $V_1 = \\text{Beta}(1,3)$, $E[\\log V_1] = \\Psi(1) - \\Psi(4)$, $E[\\log (1-V_1)] = \\Psi(3) - \\Psi(4)$.\n",
    "- $V_2 = \\text{Beta}(2,5)$, $E[\\log V_2] = \\Psi(2) - \\Psi(7)$, $E[\\log (1-V_2)] = \\Psi(5) - \\Psi(7)$.\n",
    "So $E[\\log p_1] = \\Psi(1) - \\Psi(4)$, $E[\\log p_2] =  \\Psi(2) - \\Psi(7) + \\Psi(3) - \\Psi(4)$, $E[\\log p_3] = \\Psi(3) - \\Psi(4) +  \\Psi(5) - \\Psi(7)$. "
   ]
  },
  {
   "cell_type": "code",
   "execution_count": null,
   "metadata": {
    "hidden": true
   },
   "outputs": [],
   "source": [
    "tau1 = [1,2,1]\n",
    "tau2 = [3,5,0]\n",
    "Elogp = expect_log_sticks(tau1,tau2)\n",
    "print(\"Expect Elogp1 %f, got %f\" %(psi(1)-psi(4),Elogp[0]))\n",
    "print(\"Expect Elogp2 %f, got %f\" %(psi(2)-psi(7)+psi(3)-psi(4),Elogp[1]))\n",
    "print(\"Expect Elogp3 %f, got %f\" %(psi(3)-psi(4)+psi(5)-psi(7),Elogp[2]))"
   ]
  },
  {
   "cell_type": "markdown",
   "metadata": {
    "hidden": true
   },
   "source": [
    "## GEM_expectation\n",
    "- $\\tau_1 = (1,2,1)$\n",
    "- $\\tau_2 = (3,5,0)$\n",
    "- $V_1 = \\text{Beta}(1,3)$, $E[V_1] = 1/4$, $E[1-V_1] = 3/4$.\n",
    "- $V_2 = \\text{Beta}(2,5)$, $E[V_2] = 2/7$, $E[1-V_2] = 5/7$.\n",
    "\n",
    "So $E[\\theta_1] = 1/4$, $E[\\theta_2] = 3/4*2/7$, $E[\\theta_3] = (3/4)*(5/7)$."
   ]
  },
  {
   "cell_type": "code",
   "execution_count": null,
   "metadata": {
    "hidden": true
   },
   "outputs": [],
   "source": [
    "tau1 = np.array([[1,2,1]])\n",
    "tau2 = np.array([[3,5,0]])\n",
    "theta = GEM_expectation(tau1,tau2)\n",
    "print(\"Expect Etheta1 %f, got %f\" %(1/4,theta[0,0]))\n",
    "print(\"Expect Etheta2 %f, got %f\" %(3/4*2/7,theta[0,1]))\n",
    "print(\"Expect Etheta3 %f, got %f\" %(3/4*5/7,theta[0,2]))"
   ]
  },
  {
   "cell_type": "markdown",
   "metadata": {
    "hidden": true
   },
   "source": [
    "## beta_KL"
   ]
  },
  {
   "cell_type": "code",
   "execution_count": null,
   "metadata": {
    "hidden": true
   },
   "outputs": [],
   "source": [
    "div1 = beta_KL(1,1,3,3)\n",
    "print(div1)\n",
    "print()\n",
    "div2 = beta_KL(3,3,1,1)\n",
    "print(div2)\n",
    "print()"
   ]
  },
  {
   "cell_type": "code",
   "execution_count": null,
   "metadata": {
    "hidden": true
   },
   "outputs": [],
   "source": [
    "div3 = beta_KL(3,0.5,0.5,3)\n",
    "print(div3)\n",
    "print()\n",
    "div4 = beta_KL(0.5,3,3,0.5)\n",
    "print(div4)\n",
    "print()"
   ]
  },
  {
   "cell_type": "code",
   "execution_count": null,
   "metadata": {
    "hidden": true
   },
   "outputs": [],
   "source": [
    "divs = beta_KL(np.array([1,3]),np.array([1,3]),1,1)\n",
    "print(divs)\n",
    "print(divs.shape)"
   ]
  },
  {
   "cell_type": "markdown",
   "metadata": {
    "hidden": true
   },
   "source": [
    "## dirichlet_KL"
   ]
  },
  {
   "cell_type": "code",
   "execution_count": null,
   "metadata": {
    "hidden": true
   },
   "outputs": [],
   "source": [
    "lambdap = np.array([[3,2,3,1]])\n",
    "lambdaq = np.array([[3,2,3,1]])\n",
    "ans1 = dirichlet_KL(lambdap, lambdaq)\n",
    "print(ans1)"
   ]
  },
  {
   "cell_type": "markdown",
   "metadata": {},
   "source": [
    "# Common _TopicModel functions"
   ]
  },
  {
   "cell_type": "markdown",
   "metadata": {
    "heading_collapsed": true
   },
   "source": [
    "## Convert pre-trained topics of another model into one's initial topics and proportions \n",
    "T_dSB_DP and N_dSB_DP's topics after a lot of training look degenerate: most of the underlying proportions is focused on one topic. \n",
    "\n",
    "Chong Wang's HDP code might have introduced noise early on in training to avoid this degeneracy."
   ]
  },
  {
   "cell_type": "code",
   "execution_count": 2,
   "metadata": {
    "hidden": true
   },
   "outputs": [],
   "source": [
    "from wikipedia import debug"
   ]
  },
  {
   "cell_type": "markdown",
   "metadata": {
    "hidden": true
   },
   "source": [
    "### Evaluate T_dSB_DP topics using LDA predictive distribution\n",
    "T_dSB_DP topics not good"
   ]
  },
  {
   "cell_type": "code",
   "execution_count": 3,
   "metadata": {
    "hidden": true
   },
   "outputs": [
    {
     "name": "stdout",
     "output_type": "stream",
     "text": [
      "Training corpus has 9971 documents\n",
      "Held-out corpus has 997 documents\n",
      "Save topics every 100 iterations, compute average train time every 10 iterations, report likelihood every 100 iterations\n",
      "Successfully loaded topics from results/thdpK100_T10_D20_wiki10k_wiki1k/lambda-400.dat\n",
      "Time to initialize topic model using 100 topics is 0.95\n",
      "Under warm-start topics, current model has held-out LL: -7.501269\n"
     ]
    }
   ],
   "source": [
    "method = \"lda\" \n",
    "topicinfo = [\"T_dSB_DP\", \"results/thdpK100_T10_D20_wiki10k_wiki1k/\",\"400\"]\n",
    "debug(method, topicinfo)"
   ]
  },
  {
   "cell_type": "markdown",
   "metadata": {
    "hidden": true
   },
   "source": [
    "### Evaluate N_dSB_DP topics using LDA predictive distribution\n",
    "N_dSB_DP topics not good"
   ]
  },
  {
   "cell_type": "code",
   "execution_count": 4,
   "metadata": {
    "hidden": true
   },
   "outputs": [
    {
     "name": "stdout",
     "output_type": "stream",
     "text": [
      "Training corpus has 9971 documents\n",
      "Held-out corpus has 997 documents\n",
      "Save topics every 100 iterations, compute average train time every 10 iterations, report likelihood every 100 iterations\n",
      "Successfully loaded topics from results/nhdpK100_T10_D20_wiki10k_wiki1k/lambda-400.dat\n",
      "Time to initialize topic model using 100 topics is 0.57\n",
      "Under warm-start topics, current model has held-out LL: -7.522529\n"
     ]
    }
   ],
   "source": [
    "method = \"lda\" \n",
    "topicinfo = [\"N_dSB_DP\", \"results/nhdpK100_T10_D20_wiki10k_wiki1k/\",\"400\"]\n",
    "debug(method, topicinfo)"
   ]
  },
  {
   "cell_type": "markdown",
   "metadata": {
    "hidden": true
   },
   "source": [
    "### Evaluate LDA topics using T_dSB_DP's predictive distribution\n",
    "LDA topics after 100 mini-batches better than T_dSB_DP at convergence. The implied topic proportions are reasonable (around 10 topics with significant proportions, degrading gradually)."
   ]
  },
  {
   "cell_type": "code",
   "execution_count": 5,
   "metadata": {
    "hidden": true
   },
   "outputs": [
    {
     "name": "stdout",
     "output_type": "stream",
     "text": [
      "Training corpus has 9971 documents\n",
      "Held-out corpus has 997 documents\n",
      "Save topics every 100 iterations, compute average train time every 10 iterations, report likelihood every 100 iterations\n",
      "Successfully loaded topics from results/ldaK100_D50_wiki10k_wiki1k/lambda-100.dat\n",
      "Time to initialize 100-topic model, each document using 10 topics, is 0.70\n",
      "Under warm-start topics, current model has held-out LL: -7.384952\n"
     ]
    },
    {
     "data": {
      "image/png": "[encoded data removed]",
      "text/plain": [
       "<Figure size 432x288 with 1 Axes>"
      ]
     },
     "metadata": {
      "needs_background": "light"
     },
     "output_type": "display_data"
    }
   ],
   "source": [
    "method = \"thdp\" \n",
    "topicinfo = [\"LDA\", \"results/ldaK100_D50_wiki10k_wiki1k/\",\"100\"]\n",
    "debug(method, topicinfo)"
   ]
  },
  {
   "cell_type": "markdown",
   "metadata": {
    "hidden": true
   },
   "source": [
    "### Evaluate N_dSB_DP topics using T_dSB_DP's predictive distribution.\n",
    "N_dSB_DP topics are comparable to T_dSB_DP topics in terms of held-out log-likelihood. The distribution of topic proportions is super skewed: the most common topic has expected proportions almost .8 while the next one has only .05"
   ]
  },
  {
   "cell_type": "code",
   "execution_count": 6,
   "metadata": {
    "hidden": true
   },
   "outputs": [
    {
     "name": "stdout",
     "output_type": "stream",
     "text": [
      "Training corpus has 9971 documents\n",
      "Held-out corpus has 997 documents\n",
      "Save topics every 100 iterations, compute average train time every 10 iterations, report likelihood every 100 iterations\n",
      "Successfully loaded topics from results/nhdpK100_T10_D20_wiki10k_wiki1k/lambda-400.dat\n",
      "Time to initialize 100-topic model, each document using 10 topics, is 0.58\n",
      "Succesfully created directory results/thdpK100_T10_D20_wiki10k_wiki1k/warm/nhdpK100_T10_D20_wiki10k_wiki1k/lambda-400\n",
      "Under warm-start topics, current model has held-out LL: -7.595238\n"
     ]
    },
    {
     "data": {
      "image/png": "[encoded data removed]",
      "text/plain": [
       "<Figure size 432x288 with 1 Axes>"
      ]
     },
     "metadata": {
      "needs_background": "light"
     },
     "output_type": "display_data"
    }
   ],
   "source": [
    "method = \"thdp\" \n",
    "topicinfo = [\"N_dSB_DP\", \"results/nhdpK100_T10_D20_wiki10k_wiki1k/\",\"400\"]\n",
    "debug(method, topicinfo)"
   ]
  },
  {
   "cell_type": "markdown",
   "metadata": {
    "hidden": true
   },
   "source": [
    "### Evaluate's LDA topics using N_dSB_DP's predictive distribution\n",
    "LDA topics after 100 mini-batches better than N_dSB_DP at convergence. The implied topic proportions is roughly uniform across topics."
   ]
  },
  {
   "cell_type": "code",
   "execution_count": 7,
   "metadata": {
    "hidden": true
   },
   "outputs": [
    {
     "name": "stdout",
     "output_type": "stream",
     "text": [
      "Training corpus has 9971 documents\n",
      "Held-out corpus has 997 documents\n",
      "Save topics every 100 iterations, compute average train time every 10 iterations, report likelihood every 100 iterations\n",
      "Successfully loaded topics from results/ldaK100_D50_wiki10k_wiki1k/lambda-100.dat\n",
      "Time to initialize 100-topic model, each document using 10 topics, is 0.65\n",
      "Under warm-start topics, current model has held-out LL: -7.395802\n"
     ]
    },
    {
     "data": {
      "image/png": "[encoded data removed]",
      "text/plain": [
       "<Figure size 432x288 with 1 Axes>"
      ]
     },
     "metadata": {
      "needs_background": "light"
     },
     "output_type": "display_data"
    }
   ],
   "source": [
    "method = \"nhdp\" \n",
    "topicinfo = [\"LDA\", \"results/ldaK100_D50_wiki10k_wiki1k/\",\"100\"]\n",
    "debug(method, topicinfo)"
   ]
  },
  {
   "cell_type": "markdown",
   "metadata": {
    "hidden": true
   },
   "source": [
    "### Evaluate T_dSB_DP topics using N_dSB_DP's predictive distribution.\n",
    "T_dSB_DP topics are comparable to N_dSB_DP topics in terms of held-out log-likelihood. The distribution of topic proportions is super skewed: the most common topic has expected proportions almost .8 while the next one has only .1"
   ]
  },
  {
   "cell_type": "code",
   "execution_count": 8,
   "metadata": {
    "hidden": true
   },
   "outputs": [
    {
     "name": "stdout",
     "output_type": "stream",
     "text": [
      "Training corpus has 9971 documents\n",
      "Held-out corpus has 997 documents\n",
      "Save topics every 100 iterations, compute average train time every 10 iterations, report likelihood every 100 iterations\n",
      "Successfully loaded topics from results/thdpK100_T10_D20_wiki10k_wiki1k/lambda-400.dat\n",
      "Time to initialize 100-topic model, each document using 10 topics, is 0.59\n",
      "Succesfully created directory results/nhdpK100_T10_D20_wiki10k_wiki1k/warm/thdpK100_T10_D20_wiki10k_wiki1k/lambda-400\n",
      "Under warm-start topics, current model has held-out LL: -7.574560\n"
     ]
    },
    {
     "data": {
      "image/png": "[encoded data removed]",
      "text/plain": [
       "<Figure size 432x288 with 1 Axes>"
      ]
     },
     "metadata": {
      "needs_background": "light"
     },
     "output_type": "display_data"
    }
   ],
   "source": [
    "method = \"nhdp\" \n",
    "topicinfo = [\"T_dSB_DP\", \"results/thdpK100_T10_D20_wiki10k_wiki1k/\",\"400\"]\n",
    "debug(method, topicinfo)"
   ]
  },
  {
   "cell_type": "markdown",
   "metadata": {},
   "source": [
    "## E-step"
   ]
  },
  {
   "cell_type": "code",
   "execution_count": null,
   "metadata": {},
   "outputs": [],
   "source": [
    "from topicmodelvb import "
   ]
  }
 ],
 "metadata": {
  "kernelspec": {
   "display_name": "Python 3",
   "language": "python",
   "name": "python3"
  },
  "language_info": {
   "codemirror_mode": {
    "name": "ipython",
    "version": 3
   },
   "file_extension": ".py",
   "mimetype": "text/x-python",
   "name": "python",
   "nbconvert_exporter": "python",
   "pygments_lexer": "ipython3",
   "version": "3.6.9"
  },
  "latex_envs": {
   "LaTeX_envs_menu_present": true,
   "autoclose": false,
   "autocomplete": true,
   "bibliofile": "biblio.bib",
   "cite_by": "apalike",
   "current_citInitial": 1,
   "eqLabelWithNumbers": true,
   "eqNumInitial": 1,
   "hotkeys": {
    "equation": "Ctrl-E",
    "itemize": "Ctrl-I"
   },
   "labels_anchors": false,
   "latex_user_defs": false,
   "report_style_numbering": false,
   "user_envs_cfg": false
  },
  "toc": {
   "base_numbering": 1,
   "nav_menu": {},
   "number_sections": true,
   "sideBar": true,
   "skip_h1_title": false,
   "title_cell": "Table of Contents",
   "title_sidebar": "Contents",
   "toc_cell": false,
   "toc_position": {},
   "toc_section_display": true,
   "toc_window_display": false
  },
  "varInspector": {
   "cols": {
    "lenName": 16,
    "lenType": 16,
    "lenVar": 40
   },
   "kernels_config": {
    "python": {
     "delete_cmd_postfix": "",
     "delete_cmd_prefix": "del ",
     "library": "var_list.py",
     "varRefreshCmd": "print(var_dic_list())"
    },
    "r": {
     "delete_cmd_postfix": ") ",
     "delete_cmd_prefix": "rm(",
     "library": "var_list.r",
     "varRefreshCmd": "cat(var_dic_list()) "
    }
   },
   "types_to_exclude": [
    "module",
    "function",
    "builtin_function_or_method",
    "instance",
    "_Feature"
   ],
   "window_display": false
  }
 },
 "nbformat": 4,
 "nbformat_minor": 2
}
