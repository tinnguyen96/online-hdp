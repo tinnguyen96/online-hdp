{
 "cells": [
  {
   "cell_type": "code",
   "execution_count": 1,
   "metadata": {},
   "outputs": [],
   "source": [
    "import cProfile\n",
    "import pstats\n",
    "from topicmodelvb import main"
   ]
  },
  {
   "cell_type": "markdown",
   "metadata": {},
   "source": [
    "# One mini-batch for training, evaluating held-out log-likelihood for 1000 documents\n",
    "- Tottime: time spent in just the function (excluding sub-functions)\n",
    "- cumtime: time spent in not just the function but also sub-functions\n",
    "\n",
    "Observations: A lot of time spent in logsumexp (almost 20s for a total of 56.631s)"
   ]
  },
  {
   "cell_type": "code",
   "execution_count": 2,
   "metadata": {},
   "outputs": [
    {
     "name": "stdout",
     "output_type": "stream",
     "text": [
      "Time to initialize 100-topic model is 0.24\n"
     ]
    }
   ],
   "source": [
    "filename = \"profiling/noLLstats\"\n",
    "cProfile.run(\"main(True)\",filename)"
   ]
  },
  {
   "cell_type": "code",
   "execution_count": 4,
   "metadata": {
    "scrolled": false
   },
   "outputs": [
    {
     "name": "stdout",
     "output_type": "stream",
     "text": [
      "Tue Apr  7 21:15:33 2020    profiling/noLLstats\n",
      "\n",
      "         1469685 function calls in 7.785 seconds\n",
      "\n",
      "   Ordered by: standard name\n",
      "\n",
      "   ncalls  tottime  percall  cumtime  percall filename:lineno(function)\n",
      "        1    0.000    0.000    7.785    7.785 <string>:1(<module>)\n",
      "        7    0.000    0.000    0.000    0.000 _bootlocale.py:23(getpreferredencoding)\n",
      "    19224    1.618    0.000    2.765    0.000 _logsumexp.py:9(logsumexp)\n",
      "    38048    0.095    0.000    0.104    0.000 _methods.py:48(_count_reduce_items)\n",
      "    38048    0.192    0.000    0.547    0.000 _methods.py:58(_mean)\n",
      "    19224    0.092    0.000    0.161    0.000 _util.py:193(_asarray_validated)\n",
      "    19224    0.011    0.000    0.020    0.000 base.py:1189(isspmatrix)\n",
      "        7    0.000    0.000    0.000    0.000 codecs.py:259(__init__)\n",
      "        7    0.000    0.000    0.000    0.000 codecs.py:308(__init__)\n",
      "     1508    0.001    0.000    0.004    0.000 codecs.py:318(decode)\n",
      "    19224    0.011    0.000    0.015    0.000 core.py:6199(isMaskedArray)\n",
      "        1    0.005    0.005    0.014    0.014 corpus.py:179(make_vocab)\n",
      "        2    0.229    0.115    0.261    0.130 corpus.py:200(get_batch_from_disk)\n",
      "        2    0.015    0.007    0.015    0.007 corpus.py:226(<listcomp>)\n",
      "        2    0.012    0.006    0.012    0.006 corpus.py:229(<listcomp>)\n",
      "        4    0.000    0.000    0.000    0.000 enum.py:267(__call__)\n",
      "        4    0.000    0.000    0.000    0.000 enum.py:517(__new__)\n",
      "        2    0.000    0.000    0.000    0.000 enum.py:803(__and__)\n",
      "    19224    0.014    0.000    0.044    0.000 fromnumeric.py:1331(squeeze)\n",
      "    28841    0.052    0.000    0.381    0.000 fromnumeric.py:1966(sum)\n",
      "     9514    0.014    0.000    0.068    0.000 fromnumeric.py:2252(cumsum)\n",
      "    19224    0.029    0.000    0.344    0.000 fromnumeric.py:2397(amax)\n",
      "    38048    0.079    0.000    0.626    0.000 fromnumeric.py:3014(mean)\n",
      "     9515    0.010    0.000    0.054    0.000 fromnumeric.py:54(_wrapfunc)\n",
      "    48065    0.111    0.000    0.635    0.000 fromnumeric.py:69(_wrapreduction)\n",
      "    48065    0.040    0.000    0.040    0.000 fromnumeric.py:70(<dictcomp>)\n",
      "        1    0.000    0.000    0.000    0.000 fromnumeric.py:942(argsort)\n",
      "        3    0.000    0.000    0.000    0.000 iostream.py:197(schedule)\n",
      "        2    0.000    0.000    0.000    0.000 iostream.py:309(_is_master_process)\n",
      "        2    0.000    0.000    0.000    0.000 iostream.py:322(_schedule_flush)\n",
      "        2    0.000    0.000    0.000    0.000 iostream.py:384(write)\n",
      "        3    0.000    0.000    0.000    0.000 iostream.py:93(_event_pipe)\n",
      "      302    0.000    0.000    0.002    0.000 numeric.py:175(ones)\n",
      "    38448    0.103    0.000    0.243    0.000 numeric.py:2656(seterr)\n",
      "    38448    0.086    0.000    0.093    0.000 numeric.py:2758(geterr)\n",
      "    19224    0.023    0.000    0.029    0.000 numeric.py:3054(__init__)\n",
      "    19224    0.027    0.000    0.166    0.000 numeric.py:3058(__enter__)\n",
      "    19224    0.027    0.000    0.130    0.000 numeric.py:3063(__exit__)\n",
      "    19224    0.024    0.000    0.035    0.000 numeric.py:469(asarray)\n",
      "    38048    0.017    0.000    0.035    0.000 numeric.py:541(asanyarray)\n",
      "     7702    0.002    0.000    0.008    0.000 re.py:184(sub)\n",
      "     7702    0.002    0.000    0.002    0.000 re.py:286(_compile)\n",
      "     9514    0.006    0.000    0.011    0.000 shape_base.py:209(_arrays_for_stack_dispatcher)\n",
      "     9514    0.010    0.000    0.021    0.000 shape_base.py:220(_warn_for_nonsequence)\n",
      "     9514    0.052    0.000    0.134    0.000 shape_base.py:599(column_stack)\n",
      "        3    0.000    0.000    0.000    0.000 socket.py:342(send)\n",
      "        2    0.000    0.000    0.000    0.000 sre_compile.py:223(_compile_charset)\n",
      "        2    0.000    0.000    0.000    0.000 sre_compile.py:250(_optimize_charset)\n",
      "        1    0.000    0.000    0.000    0.000 sre_compile.py:414(_get_literal_prefix)\n",
      "        1    0.000    0.000    0.000    0.000 sre_compile.py:441(_get_charset_prefix)\n",
      "        1    0.000    0.000    0.000    0.000 sre_compile.py:482(_compile_info)\n",
      "        2    0.000    0.000    0.000    0.000 sre_compile.py:539(isstring)\n",
      "        1    0.000    0.000    0.000    0.000 sre_compile.py:542(_code)\n",
      "        1    0.000    0.000    0.000    0.000 sre_compile.py:557(compile)\n",
      "        1    0.000    0.000    0.000    0.000 sre_compile.py:64(_compile)\n",
      "        1    0.000    0.000    0.000    0.000 sre_parse.py:111(__init__)\n",
      "        1    0.000    0.000    0.000    0.000 sre_parse.py:171(append)\n",
      "        1    0.000    0.000    0.000    0.000 sre_parse.py:173(getwidth)\n",
      "        1    0.000    0.000    0.000    0.000 sre_parse.py:223(__init__)\n",
      "        7    0.000    0.000    0.000    0.000 sre_parse.py:232(__next)\n",
      "        3    0.000    0.000    0.000    0.000 sre_parse.py:248(match)\n",
      "        4    0.000    0.000    0.000    0.000 sre_parse.py:253(get)\n",
      "        2    0.000    0.000    0.000    0.000 sre_parse.py:285(tell)\n",
      "        1    0.000    0.000    0.000    0.000 sre_parse.py:407(_parse_sub)\n",
      "        1    0.000    0.000    0.000    0.000 sre_parse.py:470(_parse)\n",
      "        1    0.000    0.000    0.000    0.000 sre_parse.py:76(__init__)\n",
      "        2    0.000    0.000    0.000    0.000 sre_parse.py:81(groups)\n",
      "        1    0.000    0.000    0.000    0.000 sre_parse.py:828(fix_flags)\n",
      "        1    0.000    0.000    0.000    0.000 sre_parse.py:844(parse)\n",
      "        3    0.000    0.000    0.000    0.000 threading.py:1062(_wait_for_tstate_lock)\n",
      "        3    0.000    0.000    0.000    0.000 threading.py:1104(is_alive)\n",
      "        3    0.000    0.000    0.000    0.000 threading.py:506(is_set)\n",
      "        1    2.119    2.119    7.223    7.223 topicmodelvb.py:105(do_e_step)\n",
      "        1    0.002    0.002    0.016    0.016 topicmodelvb.py:22(__init__)\n",
      "        1    0.165    0.165    0.242    0.242 topicmodelvb.py:261(__init__)\n",
      "        1    0.012    0.012    7.265    7.265 topicmodelvb.py:308(do_m_step)\n",
      "        1    0.000    0.000    0.000    0.000 topicmodelvb.py:345(<listcomp>)\n",
      "        1    0.003    0.003    7.781    7.781 topicmodelvb.py:592(sanity_atomic)\n",
      "     9972    0.006    0.000    0.007    0.000 topicmodelvb.py:610(<genexpr>)\n",
      "      998    0.001    0.000    0.001    0.000 topicmodelvb.py:612(<genexpr>)\n",
      "        1    0.005    0.005    7.785    7.785 topicmodelvb.py:632(main)\n",
      "      100    0.015    0.000    0.048    0.000 topicmodelvb.py:72(init_doc)\n",
      "     9514    0.107    0.000    0.536    0.000 utils.py:15(expect_log_sticks)\n",
      "     9516    0.181    0.000    0.289    0.000 utils.py:4(dirichlet_expectation)\n",
      "     1508    0.003    0.000    0.003    0.000 {built-in method _codecs.utf_8_decode}\n",
      "        4    0.000    0.000    0.000    0.000 {built-in method _csv.reader}\n",
      "        7    0.000    0.000    0.000    0.000 {built-in method _locale.nl_langinfo}\n",
      "        1    0.000    0.000    0.000    0.000 {built-in method _sre.compile}\n",
      "    38048    0.145    0.000    0.145    0.000 {built-in method builtins.abs}\n",
      "        1    0.000    0.000    7.785    7.785 {built-in method builtins.exec}\n",
      "     9515    0.004    0.000    0.004    0.000 {built-in method builtins.getattr}\n",
      "    47562    0.020    0.000    0.020    0.000 {built-in method builtins.hasattr}\n",
      "   143394    0.044    0.000    0.044    0.000 {built-in method builtins.isinstance}\n",
      "    76096    0.017    0.000    0.017    0.000 {built-in method builtins.issubclass}\n",
      "    17240    0.003    0.000    0.003    0.000 {built-in method builtins.len}\n",
      "        3    0.000    0.000    0.000    0.000 {built-in method builtins.min}\n",
      "        2    0.000    0.000    0.000    0.000 {built-in method builtins.ord}\n",
      "        1    0.000    0.000    0.000    0.000 {built-in method builtins.pow}\n",
      "        1    0.000    0.000    0.000    0.000 {built-in method builtins.print}\n",
      "        2    0.001    0.000    0.008    0.004 {built-in method builtins.sum}\n",
      "        7    0.002    0.000    0.002    0.000 {built-in method io.open}\n",
      "    95328    0.052    0.000    0.052    0.000 {built-in method numpy.array}\n",
      "     9514    0.034    0.000    0.034    0.000 {built-in method numpy.concatenate}\n",
      "      302    0.001    0.000    0.001    0.000 {built-in method numpy.copyto}\n",
      "    47861    1.005    0.000    1.005    0.000 {built-in method numpy.dot}\n",
      "      302    0.001    0.000    0.001    0.000 {built-in method numpy.empty}\n",
      "    76896    0.020    0.000    0.020    0.000 {built-in method numpy.geterrobj}\n",
      "    38448    0.034    0.000    0.034    0.000 {built-in method numpy.seterrobj}\n",
      "        8    0.000    0.000    0.000    0.000 {built-in method numpy.zeros}\n",
      "        2    0.000    0.000    0.000    0.000 {built-in method posix.getpid}\n",
      "        6    0.000    0.000    0.000    0.000 {built-in method time.time}\n",
      "        3    0.000    0.000    0.000    0.000 {method 'acquire' of '_thread.lock' objects}\n",
      "        3    0.000    0.000    0.000    0.000 {method 'append' of 'collections.deque' objects}\n",
      "    19056    0.004    0.000    0.004    0.000 {method 'append' of 'list' objects}\n",
      "        1    0.000    0.000    0.000    0.000 {method 'argsort' of 'numpy.ndarray' objects}\n",
      "     9514    0.040    0.000    0.040    0.000 {method 'cumsum' of 'numpy.ndarray' objects}\n",
      "        1    0.000    0.000    0.000    0.000 {method 'disable' of '_lsprof.Profiler' objects}\n",
      "        6    0.000    0.000    0.000    0.000 {method 'find' of 'bytearray' objects}\n",
      "      100    0.000    0.000    0.000    0.000 {method 'flatten' of 'numpy.ndarray' objects}\n",
      "        1    0.029    0.029    0.029    0.029 {method 'gamma' of 'mtrand.RandomState' objects}\n",
      "    48067    0.010    0.000    0.010    0.000 {method 'items' of 'dict' objects}\n",
      "     7702    0.001    0.000    0.001    0.000 {method 'lower' of 'str' objects}\n",
      "    19224    0.006    0.000    0.006    0.000 {method 'pop' of 'dict' objects}\n",
      "        1    0.000    0.000    0.000    0.000 {method 'randint' of 'mtrand.RandomState' objects}\n",
      "        1    0.000    0.000    0.000    0.000 {method 'readlines' of '_io._IOBase' objects}\n",
      "    86113    0.645    0.000    0.645    0.000 {method 'reduce' of 'numpy.ufunc' objects}\n",
      "        1    0.000    0.000    0.000    0.000 {method 'seed' of 'mtrand.RandomState' objects}\n",
      "    19224    0.029    0.000    0.029    0.000 {method 'squeeze' of 'numpy.ndarray' objects}\n",
      "     7702    0.004    0.000    0.004    0.000 {method 'sub' of '_sre.SRE_Pattern' objects}\n",
      "     9612    0.007    0.000    0.007    0.000 {method 'transpose' of 'numpy.ndarray' objects}\n",
      "\n",
      "\n"
     ]
    },
    {
     "data": {
      "text/plain": [
       "<pstats.Stats at 0x14c0b50e2c88>"
      ]
     },
     "execution_count": 4,
     "metadata": {},
     "output_type": "execute_result"
    }
   ],
   "source": [
    "p = pstats.Stats(\"profiling/noLLstats\")\n",
    "p.strip_dirs().sort_stats(-1).print_stats()\n",
    "# p.sort_stats('time').print_stats(100)"
   ]
  }
 ],
 "metadata": {
  "kernelspec": {
   "display_name": "Python 3",
   "language": "python",
   "name": "python3"
  },
  "language_info": {
   "codemirror_mode": {
    "name": "ipython",
    "version": 3
   },
   "file_extension": ".py",
   "mimetype": "text/x-python",
   "name": "python",
   "nbconvert_exporter": "python",
   "pygments_lexer": "ipython3",
   "version": "3.6.9"
  },
  "latex_envs": {
   "LaTeX_envs_menu_present": true,
   "autoclose": false,
   "autocomplete": true,
   "bibliofile": "biblio.bib",
   "cite_by": "apalike",
   "current_citInitial": 1,
   "eqLabelWithNumbers": true,
   "eqNumInitial": 1,
   "hotkeys": {
    "equation": "Ctrl-E",
    "itemize": "Ctrl-I"
   },
   "labels_anchors": false,
   "latex_user_defs": false,
   "report_style_numbering": false,
   "user_envs_cfg": false
  },
  "toc": {
   "base_numbering": 1,
   "nav_menu": {},
   "number_sections": true,
   "sideBar": true,
   "skip_h1_title": false,
   "title_cell": "Table of Contents",
   "title_sidebar": "Contents",
   "toc_cell": false,
   "toc_position": {},
   "toc_section_display": true,
   "toc_window_display": false
  },
  "varInspector": {
   "cols": {
    "lenName": 16,
    "lenType": 16,
    "lenVar": 40
   },
   "kernels_config": {
    "python": {
     "delete_cmd_postfix": "",
     "delete_cmd_prefix": "del ",
     "library": "var_list.py",
     "varRefreshCmd": "print(var_dic_list())"
    },
    "r": {
     "delete_cmd_postfix": ") ",
     "delete_cmd_prefix": "rm(",
     "library": "var_list.r",
     "varRefreshCmd": "cat(var_dic_list()) "
    }
   },
   "types_to_exclude": [
    "module",
    "function",
    "builtin_function_or_method",
    "instance",
    "_Feature"
   ],
   "window_display": false
  }
 },
 "nbformat": 4,
 "nbformat_minor": 2
}
