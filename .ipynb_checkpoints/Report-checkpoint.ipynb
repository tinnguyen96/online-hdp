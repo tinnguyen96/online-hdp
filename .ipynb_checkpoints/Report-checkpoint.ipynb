{
 "cells": [
  {
   "cell_type": "markdown",
   "metadata": {},
   "source": [
    "# Held-out log-likelihood"
   ]
  },
  {
   "cell_type": "code",
   "execution_count": null,
   "metadata": {},
   "outputs": [],
   "source": [
    "import numpy as np\n",
    "import matplotlib.pyplot as plt"
   ]
  },
  {
   "cell_type": "markdown",
   "metadata": {},
   "source": [
    "## T-dSB-DP versus N-dSB-DP across K"
   ]
  },
  {
   "cell_type": "code",
   "execution_count": null,
   "metadata": {},
   "outputs": [],
   "source": [
    "def varyK_NvsT(Klist, T, D, inroot, heldoutroot, expset, ax):\n",
    "    \"\"\"\n",
    "    Inputs:\n",
    "        Klist: list of approximation levels\n",
    "        T: scalar, per-document cap on number of topics\n",
    "        D: scalar, mini-batch size \n",
    "        expset: list of experimental seeds\n",
    "        ax: axis to plot\n",
    "    Outputs:\n",
    "        plots LL of T-dSB-DP and N-dSB-DP versus number of minibatches\n",
    "    Remarks: \n",
    "        all experiments are expected to run until completion i.e. \n",
    "        the same number of iterations.\n",
    "    \"\"\"\n",
    "    nhdp = {}\n",
    "    nhdp['avg'] = []\n",
    "    nhdp['err'] = []\n",
    "    thdp = {}\n",
    "    thdp['avg'] = []\n",
    "    thdp['err'] = []\n",
    "    for i in range(len(Klist)):\n",
    "        K = Klist[i]\n",
    "        \n",
    "        # average held-out log-likelihood at convergence of N-dSB-DP\n",
    "        nhdpdir = \"results/nhdpK\" + str(K) + \"_T\" + str(T) + \"_\" + \"D\" + str(D) + \"_\" + inroot + \"_\" + heldoutroot\n",
    "        finalnhdpLL = []\n",
    "        ## load experiments\n",
    "        for seed in expset:\n",
    "            nhdppath = nhdpdir + \"/LL_\" + str(seed) + \".csv\"\n",
    "            result = np.loadtxt(nhdppath)\n",
    "            # extract only LL at convergence\n",
    "            finalnhdpLL.append(result[-1,2])\n",
    "        finalnhdpLL = np.array(finalnhdpLL) # shape (len(expset),)\n",
    "        nhdp['avg'].append(np.mean(finalnhdpLL)) # scalar\n",
    "        nhdp['err'].append(np.std(finalnhdpLL)) # scalar\n",
    "    \n",
    "        # average held-out log-likelihood at convergence of T-dSB-DP\n",
    "        thdpdir = \"results/thdpK\" + str(K) + \"_T\" + str(T) + \"_\" + \"D\" + str(D) + \"_\" + inroot + \"_\" + heldoutroot\n",
    "        finalthdpLL = []\n",
    "        ## load experiments\n",
    "        for seed in expset:\n",
    "            thdppath = thdpdir + \"/LL_\" + str(seed) + \".csv\"\n",
    "            result = np.loadtxt(thdppath)\n",
    "            # extract only LL at convergence \n",
    "            finalthdpLL.append(result[-1,2])\n",
    "        finalthdpLL = np.array(finalthdpLL) # shape (len(expset),)\n",
    "        thdp['avg'].append(np.mean(finalthdpLL)) # scalar\n",
    "        thdp['err'].append(np.std(finalthdpLL)) # scalar\n",
    "        \n",
    "    ax.errorbar(Klist, nhdp['avg'], yerr=nhdp['err'],label='N-dSB-DP')\n",
    "    ax.errorbar(Klist, thdp['avg'], yerr=thdp['err'],label='T-dSB-DP')\n",
    "    \n",
    "    ax.set_title('D = %d, T = %d' %(D,T))\n",
    "    ax.set_xlabel('K')\n",
    "    ax.set_ylabel('Held-out log-likelihood at convergence')\n",
    "    ax.legend()\n",
    "    \n",
    "    return "
   ]
  },
  {
   "cell_type": "code",
   "execution_count": null,
   "metadata": {},
   "outputs": [],
   "source": [
    "Klist = [10, 30, 50, 70, 90]\n",
    "Dlist = [20, 50, 100]\n",
    "T = 10\n",
    "\n",
    "\n",
    "plt.figure()\n",
    "varyK_NvsT(Klist, T, Dlist[0], \"wiki10k\",\"wiki1k\", range(0,5), plt.gca())\n",
    "\n",
    "\"\"\"\n",
    "fig, axes = plt.subplots(1,3,figsize=(12,4))\n",
    "\n",
    "for i in range(3):\n",
    "    varyK_NvsT(Klist, T, Dlist[i], \"wiki10k\",\"wiki1k\", range(0,5), axes[i])\n",
    "\"\"\"\n",
    "\n",
    "plt.tight_layout()\n",
    "plt.show()"
   ]
  },
  {
   "cell_type": "markdown",
   "metadata": {
    "heading_collapsed": true
   },
   "source": [
    "# Inferred topics"
   ]
  },
  {
   "cell_type": "code",
   "execution_count": null,
   "metadata": {
    "hidden": true
   },
   "outputs": [],
   "source": [
    "import numpy as np\n",
    "import pandas as pd"
   ]
  },
  {
   "cell_type": "code",
   "execution_count": null,
   "metadata": {
    "hidden": true
   },
   "outputs": [],
   "source": [
    "from utils import GEM_expectation\n",
    "import matplotlib.pyplot as plt\n",
    "\n",
    "def printtopics(vocabfile, file, method, dirthresh, probthresh, displaycount):\n",
    "    \"\"\"\n",
    "    Inputs:\n",
    "        vocabfile:\n",
    "        file:\n",
    "        method:\n",
    "        dirthresh:\n",
    "        probthresh:\n",
    "        displaycount:\n",
    "    Outputs:\n",
    "    \"\"\"\n",
    "    vocab = open(vocabfile).readlines()\n",
    "    testlambda = np.loadtxt(file[\"lambda\"])\n",
    "    # compute expectation of topic's underlying probability\n",
    "    testa = np.loadtxt(file[\"a\"])\n",
    "    if (method == \"thdp\"):\n",
    "        testb = np.loadtxt(file[\"b\"]) \n",
    "        probs = GEM_expectation(testa[np.newaxis,:],testb[np.newaxis,:]).flatten()\n",
    "    elif (method == \"nhdp\"):\n",
    "        probs = testa/np.sum(testa)\n",
    "        \n",
    "    # sort topics first by probs\n",
    "    idx = [i for i in reversed(np.argsort(probs))]\n",
    "    probs = probs[idx]\n",
    "    testlambda = testlambda[idx, :]\n",
    "        \n",
    "    # how many topics explain most of the data?\n",
    "    cumsum = np.cumsum(probs)\n",
    "    for i in range(0, len(testlambda)):\n",
    "        if (cumsum[i]>probthresh):\n",
    "            lastidx = i\n",
    "            break\n",
    "    \n",
    "    # plot the expectations\n",
    "    plt.figure()\n",
    "    plt.plot(probs, marker='o', markersize=4, label='Expected proportions',color='b')\n",
    "    plt.axvline(x=lastidx,label='Last explanatory topic',color='r', linestyle='--')\n",
    "    plt.title(\"Expected underlying proportions. \\n Explanatory threshold %.2f\" %probthresh)\n",
    "    plt.xlabel(\"Topic index\")\n",
    "    plt.ylabel(\"Underlying proportions\")\n",
    "    plt.legend()\n",
    "    plt.show()\n",
    "    \n",
    "    sigtopics = 0\n",
    "    df = pd.DataFrame() \n",
    "    for k in range(0, len(testlambda)):\n",
    "        lambdak = list(testlambda[k, :])\n",
    "        lambdak = [round(i,1) for i in lambdak]\n",
    "        temp = list(zip(lambdak, list(range(0, len(lambdak)))))\n",
    "        temp = sorted(temp, key = lambda x: x[0], reverse=True)\n",
    "        dirichlets = np.array(temp)[:,0]\n",
    "        widices = np.array(temp,dtype=int)[:,1]\n",
    "        # plot topics with parameters exceeding the threshold\n",
    "        if (dirichlets[0] >= dirthresh):\n",
    "            meanparam = np.mean(dirichlets[:displaycount])\n",
    "            colname = \"%d: prob %.2f, mean %.2f\" % (k, probs[k], meanparam)\n",
    "            coldata = [(str.strip(vocab[widices[i]]), dirichlets[i]) for i in range(0, displaycount)]\n",
    "            df[colname] = coldata\n",
    "    print(\"Discovered %d significant topics at dirichlet threshold %.2f\" %(len(df.columns),threshold))\n",
    "    return df"
   ]
  },
  {
   "cell_type": "markdown",
   "metadata": {
    "heading_collapsed": true,
    "hidden": true
   },
   "source": [
    "### T_HDP output with no topic ordering "
   ]
  },
  {
   "cell_type": "code",
   "execution_count": null,
   "metadata": {
    "hidden": true
   },
   "outputs": [],
   "source": [
    "vocabfile = \"dictnostops.txt\"\n",
    "file = {}\n",
    "file[\"lambda\"] =\"results/thdpK100_D50_wiki10k_wiki1k/lambda-400.dat\"\n",
    "file[\"a\"] =\"results/thdpK100_D50_wiki10k_wiki1k/a-400.dat\"\n",
    "file[\"b\"] =\"results/thdpK100_D50_wiki10k_wiki1k/b-400.dat\"\n",
    "normalized = False\n",
    "method = \"thdp\"\n",
    "threshold = 50\n",
    "displaycount = 10\n",
    "df = printtopics(vocabfile, file, method, normalized, threshold, displaycount)\n",
    "df"
   ]
  },
  {
   "cell_type": "markdown",
   "metadata": {
    "heading_collapsed": true,
    "hidden": true
   },
   "source": [
    "### T_HDP with topic ordering but slightly incorrect E-step due to expect_log_sticks"
   ]
  },
  {
   "cell_type": "code",
   "execution_count": null,
   "metadata": {
    "hidden": true
   },
   "outputs": [],
   "source": [
    "vocabfile = \"dictnostops.txt\"\n",
    "file = {}\n",
    "file[\"lambda\"] =\"results/thdpK100_D20_wiki10k_wiki1k/lambda-400.dat\"\n",
    "file[\"a\"] =\"results/thdpK100_D20_wiki10k_wiki1k/a-400.dat\"\n",
    "file[\"b\"] =\"results/thdpK100_D20_wiki10k_wiki1k/b-400.dat\"\n",
    "normalized = False\n",
    "method = \"thdp\"\n",
    "threshold = 200\n",
    "displaycount = 10\n",
    "df = printtopics(vocabfile, file, method, normalized, threshold, displaycount)\n",
    "df"
   ]
  },
  {
   "cell_type": "markdown",
   "metadata": {
    "heading_collapsed": true,
    "hidden": true
   },
   "source": [
    "### T_HDP with topic ordering, slightly incorrect E-step due to expect_log_sticks, ran for almost 1000 mini-batches"
   ]
  },
  {
   "cell_type": "code",
   "execution_count": null,
   "metadata": {
    "hidden": true
   },
   "outputs": [],
   "source": [
    "vocabfile = \"dictnostops.txt\"\n",
    "file = {}\n",
    "file[\"lambda\"] =\"results/thdpK100_D20_wiki10k_wiki1k/lambda-800.dat\"\n",
    "file[\"a\"] =\"results/thdpK100_D20_wiki10k_wiki1k/a-800.dat\"\n",
    "file[\"b\"] =\"results/thdpK100_D20_wiki10k_wiki1k/b-800.dat\"\n",
    "normalized = False\n",
    "method = \"thdp\"\n",
    "threshold = 200\n",
    "displaycount = 10\n",
    "df = printtopics(vocabfile, file, method, normalized, threshold, displaycount)\n",
    "df"
   ]
  },
  {
   "cell_type": "markdown",
   "metadata": {
    "hidden": true
   },
   "source": [
    "### T_HDP with topic ordering, corrected E-step, ran for a small number of mini-batches"
   ]
  },
  {
   "cell_type": "code",
   "execution_count": null,
   "metadata": {
    "hidden": true
   },
   "outputs": [],
   "source": [
    "vocabfile = \"dictnostops.txt\"\n",
    "file = {}\n",
    "file[\"lambda\"] =\"results/thdpK100_T20_D50_wiki10k_wiki1k/lambda-100.dat\"\n",
    "file[\"a\"] =\"results/thdpK100_T20_D50_wiki10k_wiki1k/a-100.dat\"\n",
    "file[\"b\"] =\"results/thdpK100_T20_D50_wiki10k_wiki1k/b-100.dat\"\n",
    "method = \"thdp\"\n",
    "dirthresh = 200\n",
    "probthresh = 0.95\n",
    "displaycount = 10\n",
    "df = printtopics(vocabfile, file, method, dirthresh, probthresh, displaycount)\n",
    "df"
   ]
  },
  {
   "cell_type": "code",
   "execution_count": null,
   "metadata": {
    "hidden": true
   },
   "outputs": [],
   "source": [
    "vocabfile = \"dictnostops.txt\"\n",
    "file = {}\n",
    "file[\"lambda\"] =\"results/thdpK100_T20_D50_wiki10k_wiki1k/lambda-500.dat\"\n",
    "file[\"a\"] =\"results/thdpK100_T20_D50_wiki10k_wiki1k/a-500.dat\"\n",
    "file[\"b\"] =\"results/thdpK100_T20_D50_wiki10k_wiki1k/b-500.dat\"\n",
    "method = \"thdp\"\n",
    "dirthresh = 400\n",
    "probthresh = 0.95\n",
    "displaycount = 10\n",
    "df = printtopics(vocabfile, file, method, dirthresh, probthresh, displaycount)\n",
    "df"
   ]
  },
  {
   "cell_type": "markdown",
   "metadata": {
    "hidden": true
   },
   "source": [
    "### N_HDP, corrected E-step, small number of mini-batches "
   ]
  },
  {
   "cell_type": "code",
   "execution_count": null,
   "metadata": {
    "hidden": true
   },
   "outputs": [],
   "source": [
    "vocabfile = \"dictnostops.txt\"\n",
    "file = {}\n",
    "file[\"lambda\"] =\"results/nhdpK100_T20_D50_wiki10k_wiki1k/lambda-100.dat\"\n",
    "file[\"a\"] =\"results/nhdpK100_T20_D50_wiki10k_wiki1k/a-100.dat\"\n",
    "file[\"b\"] =\"results/nhdpK100_T20_D50_wiki10k_wiki1k/b-100.dat\"\n",
    "method = \"nhdp\"\n",
    "probthresh = 0.95\n",
    "dirthresh = 200\n",
    "displaycount = 10\n",
    "df = printtopics(vocabfile, file, method, dirthresh, probthresh, displaycount)\n",
    "df"
   ]
  },
  {
   "cell_type": "code",
   "execution_count": null,
   "metadata": {
    "hidden": true
   },
   "outputs": [],
   "source": [
    "vocabfile = \"dictnostops.txt\"\n",
    "file = {}\n",
    "file[\"lambda\"] =\"results/nhdpK100_T20_D50_wiki10k_wiki1k/lambda-500.dat\"\n",
    "file[\"a\"] =\"results/nhdpK100_T20_D50_wiki10k_wiki1k/a-500.dat\"\n",
    "file[\"b\"] =\"results/nhdpK100_T20_D50_wiki10k_wiki1k/b-500.dat\"\n",
    "method = \"nhdp\"\n",
    "probthresh = 0.95\n",
    "dirthresh = 200\n",
    "displaycount = 10\n",
    "df = printtopics(vocabfile, file, method, dirthresh, probthresh, displaycount)\n",
    "df"
   ]
  },
  {
   "cell_type": "markdown",
   "metadata": {},
   "source": [
    "# Warm-start"
   ]
  },
  {
   "cell_type": "code",
   "execution_count": 3,
   "metadata": {},
   "outputs": [],
   "source": [
    "from wikipedia import debug\n",
    "from wikipedia import makesaves\n",
    "from wikipedia import maketopicfile\n",
    "from evaltopics import evaltopics\n",
    "from utils import TrainSpecs\n",
    "import matplotlib.pyplot as plt"
   ]
  },
  {
   "cell_type": "markdown",
   "metadata": {
    "heading_collapsed": true
   },
   "source": [
    "## Evaluate N(T)-dSB-DP predictive distribution using LDA topics"
   ]
  },
  {
   "cell_type": "markdown",
   "metadata": {
    "hidden": true
   },
   "source": [
    "### LDA topics after 2000 documents"
   ]
  },
  {
   "cell_type": "code",
   "execution_count": null,
   "metadata": {
    "hidden": true
   },
   "outputs": [],
   "source": [
    "method = \"thdp\" \n",
    "topicinfo = [\"LDA\", \"results/ldaK100_D50_wiki10k_wiki1k/\",\"100\"]\n",
    "debug(method, topicinfo)"
   ]
  },
  {
   "cell_type": "code",
   "execution_count": null,
   "metadata": {
    "hidden": true
   },
   "outputs": [],
   "source": [
    "method = \"nhdp\" \n",
    "topicinfo = [\"LDA\", \"results/ldaK100_D50_wiki10k_wiki1k/\",\"100\"]\n",
    "debug(method, topicinfo)"
   ]
  },
  {
   "cell_type": "markdown",
   "metadata": {
    "hidden": true
   },
   "source": [
    "### LDA topics after different number of mini-batches"
   ]
  },
  {
   "cell_type": "code",
   "execution_count": 3,
   "metadata": {
    "hidden": true
   },
   "outputs": [
    {
     "name": "stderr",
     "output_type": "stream",
     "text": [
      "\r",
      "  0%|          | 0/9 [00:00<?, ?it/s]"
     ]
    },
    {
     "name": "stdout",
     "output_type": "stream",
     "text": [
      "Successfully loaded topics from results/ldaK100_D50_wiki10k_wiki1k/lambda-0.dat\n",
      "Time to initialize 100-topic model, each document using 10 topics, is 0.61\n"
     ]
    },
    {
     "name": "stderr",
     "output_type": "stream",
     "text": [
      "\r",
      " 11%|█         | 1/9 [00:41<05:30, 41.32s/it]"
     ]
    },
    {
     "name": "stdout",
     "output_type": "stream",
     "text": [
      "Successfully loaded topics from results/ldaK100_D50_wiki10k_wiki1k/lambda-100.dat\n",
      "Time to initialize 100-topic model, each document using 10 topics, is 0.61\n"
     ]
    },
    {
     "name": "stderr",
     "output_type": "stream",
     "text": [
      "\r",
      " 22%|██▏       | 2/9 [01:34<05:14, 44.92s/it]"
     ]
    },
    {
     "name": "stdout",
     "output_type": "stream",
     "text": [
      "Successfully loaded topics from results/ldaK100_D50_wiki10k_wiki1k/lambda-200.dat\n",
      "Time to initialize 100-topic model, each document using 10 topics, is 0.61\n"
     ]
    },
    {
     "name": "stderr",
     "output_type": "stream",
     "text": [
      "\r",
      " 33%|███▎      | 3/9 [02:23<04:36, 46.05s/it]"
     ]
    },
    {
     "name": "stdout",
     "output_type": "stream",
     "text": [
      "Successfully loaded topics from results/ldaK100_D50_wiki10k_wiki1k/lambda-300.dat\n",
      "Time to initialize 100-topic model, each document using 10 topics, is 0.61\n"
     ]
    },
    {
     "name": "stderr",
     "output_type": "stream",
     "text": [
      "\r",
      " 44%|████▍     | 4/9 [03:15<03:59, 47.85s/it]"
     ]
    },
    {
     "name": "stdout",
     "output_type": "stream",
     "text": [
      "Successfully loaded topics from results/ldaK100_D50_wiki10k_wiki1k/lambda-400.dat\n",
      "Time to initialize 100-topic model, each document using 10 topics, is 0.60\n"
     ]
    },
    {
     "name": "stderr",
     "output_type": "stream",
     "text": [
      "\r",
      " 56%|█████▌    | 5/9 [04:04<03:12, 48.13s/it]"
     ]
    },
    {
     "name": "stdout",
     "output_type": "stream",
     "text": [
      "Successfully loaded topics from results/ldaK100_D50_wiki10k_wiki1k/lambda-500.dat\n",
      "Time to initialize 100-topic model, each document using 10 topics, is 0.59\n"
     ]
    },
    {
     "name": "stderr",
     "output_type": "stream",
     "text": [
      "\r",
      " 67%|██████▋   | 6/9 [04:49<02:21, 47.16s/it]"
     ]
    },
    {
     "name": "stdout",
     "output_type": "stream",
     "text": [
      "Successfully loaded topics from results/ldaK100_D50_wiki10k_wiki1k/lambda-600.dat\n",
      "Time to initialize 100-topic model, each document using 10 topics, is 0.59\n"
     ]
    },
    {
     "name": "stderr",
     "output_type": "stream",
     "text": [
      "\r",
      " 78%|███████▊  | 7/9 [05:30<01:30, 45.33s/it]"
     ]
    },
    {
     "name": "stdout",
     "output_type": "stream",
     "text": [
      "Successfully loaded topics from results/ldaK100_D50_wiki10k_wiki1k/lambda-700.dat\n",
      "Time to initialize 100-topic model, each document using 10 topics, is 0.59\n"
     ]
    },
    {
     "name": "stderr",
     "output_type": "stream",
     "text": [
      "\r",
      " 89%|████████▉ | 8/9 [06:14<00:45, 45.09s/it]"
     ]
    },
    {
     "name": "stdout",
     "output_type": "stream",
     "text": [
      "Successfully loaded topics from results/ldaK100_D50_wiki10k_wiki1k/lambda-800.dat\n",
      "Time to initialize 100-topic model, each document using 10 topics, is 0.60\n"
     ]
    },
    {
     "name": "stderr",
     "output_type": "stream",
     "text": [
      "100%|██████████| 9/9 [07:02<00:00, 45.78s/it]\n",
      "  0%|          | 0/9 [00:00<?, ?it/s]"
     ]
    },
    {
     "name": "stdout",
     "output_type": "stream",
     "text": [
      "[-8.690190077591753, -7.38500418304376, -7.3282378720046895, -7.304029460519426, -7.314953464615891, -7.326021236751706, -7.338694375541374, -7.354139757213254, -7.370244763114952]\n",
      "Successfully loaded topics from results/ldaK100_D50_wiki10k_wiki1k/lambda-0.dat\n",
      "Time to initialize 100-topic model, each document using 10 topics, is 0.62\n"
     ]
    },
    {
     "name": "stderr",
     "output_type": "stream",
     "text": [
      "\r",
      " 11%|█         | 1/9 [00:43<05:44, 43.07s/it]"
     ]
    },
    {
     "name": "stdout",
     "output_type": "stream",
     "text": [
      "Successfully loaded topics from results/ldaK100_D50_wiki10k_wiki1k/lambda-100.dat\n",
      "Time to initialize 100-topic model, each document using 10 topics, is 0.61\n"
     ]
    },
    {
     "name": "stderr",
     "output_type": "stream",
     "text": [
      "\r",
      " 22%|██▏       | 2/9 [01:33<05:17, 45.37s/it]"
     ]
    },
    {
     "name": "stdout",
     "output_type": "stream",
     "text": [
      "Successfully loaded topics from results/ldaK100_D50_wiki10k_wiki1k/lambda-200.dat\n",
      "Time to initialize 100-topic model, each document using 10 topics, is 0.61\n"
     ]
    },
    {
     "name": "stderr",
     "output_type": "stream",
     "text": [
      "\r",
      " 33%|███▎      | 3/9 [02:23<04:40, 46.73s/it]"
     ]
    },
    {
     "name": "stdout",
     "output_type": "stream",
     "text": [
      "Successfully loaded topics from results/ldaK100_D50_wiki10k_wiki1k/lambda-300.dat\n",
      "Time to initialize 100-topic model, each document using 10 topics, is 0.61\n"
     ]
    },
    {
     "name": "stderr",
     "output_type": "stream",
     "text": [
      "\r",
      " 44%|████▍     | 4/9 [03:09<03:52, 46.50s/it]"
     ]
    },
    {
     "name": "stdout",
     "output_type": "stream",
     "text": [
      "Successfully loaded topics from results/ldaK100_D50_wiki10k_wiki1k/lambda-400.dat\n",
      "Time to initialize 100-topic model, each document using 10 topics, is 0.61\n"
     ]
    },
    {
     "name": "stderr",
     "output_type": "stream",
     "text": [
      "\r",
      " 56%|█████▌    | 5/9 [03:59<03:10, 47.53s/it]"
     ]
    },
    {
     "name": "stdout",
     "output_type": "stream",
     "text": [
      "Successfully loaded topics from results/ldaK100_D50_wiki10k_wiki1k/lambda-500.dat\n",
      "Time to initialize 100-topic model, each document using 10 topics, is 0.62\n"
     ]
    },
    {
     "name": "stderr",
     "output_type": "stream",
     "text": [
      "\r",
      " 67%|██████▋   | 6/9 [04:51<02:26, 48.71s/it]"
     ]
    },
    {
     "name": "stdout",
     "output_type": "stream",
     "text": [
      "Successfully loaded topics from results/ldaK100_D50_wiki10k_wiki1k/lambda-600.dat\n",
      "Time to initialize 100-topic model, each document using 10 topics, is 0.63\n"
     ]
    },
    {
     "name": "stderr",
     "output_type": "stream",
     "text": [
      "\r",
      " 78%|███████▊  | 7/9 [05:40<01:38, 49.03s/it]"
     ]
    },
    {
     "name": "stdout",
     "output_type": "stream",
     "text": [
      "Successfully loaded topics from results/ldaK100_D50_wiki10k_wiki1k/lambda-700.dat\n",
      "Time to initialize 100-topic model, each document using 10 topics, is 0.61\n"
     ]
    },
    {
     "name": "stderr",
     "output_type": "stream",
     "text": [
      "\r",
      " 89%|████████▉ | 8/9 [06:27<00:48, 48.36s/it]"
     ]
    },
    {
     "name": "stdout",
     "output_type": "stream",
     "text": [
      "Successfully loaded topics from results/ldaK100_D50_wiki10k_wiki1k/lambda-800.dat\n",
      "Time to initialize 100-topic model, each document using 10 topics, is 0.62\n"
     ]
    },
    {
     "name": "stderr",
     "output_type": "stream",
     "text": [
      "\r",
      "100%|██████████| 9/9 [07:11<00:00, 47.14s/it]"
     ]
    },
    {
     "name": "stdout",
     "output_type": "stream",
     "text": [
      "[-8.708407872939713, -7.395819501527247, -7.327511209302736, -7.304559481826493, -7.31265010247221, -7.332173165458577, -7.3547113929704375, -7.3706200051860336, -7.390333959445528]\n"
     ]
    },
    {
     "name": "stderr",
     "output_type": "stream",
     "text": [
      "\n"
     ]
    },
    {
     "data": {
      "image/png": "[encoded data removed]",
      "text/plain": [
       "<Figure size 576x288 with 2 Axes>"
      ]
     },
     "metadata": {
      "needs_background": "light"
     },
     "output_type": "display_data"
    }
   ],
   "source": [
    "args1 = TrainSpecs(train=False, test=True, method='thdp', K=[100], T=10, LLiter=100, progressiter=10, topiciter=100,\n",
    "                      inroot='wiki10k', heldoutroot='wiki1k', tau=1024, kappa = 0.7, seed=0, \n",
    "                      maxiter=1000, batchsize=20)\n",
    "args2 = TrainSpecs(train=False, test=True, method='nhdp', K=[100], T=10, LLiter=100, progressiter=10, topiciter=100,\n",
    "                      inroot='wiki10k', heldoutroot='wiki1k', tau=1024, kappa = 0.7, seed=0, \n",
    "                      maxiter=1000, batchsize=20)\n",
    "\n",
    "iterations = range(0,900,100)\n",
    "topicroot = [\"LDA\",\"results/ldaK100_D50_wiki10k_wiki1k/\"]\n",
    "\n",
    "fig, axes = plt.subplots(1,2,figsize=(8,4))\n",
    "\n",
    "evaltopics(args1, topicroot, iterations, axes[0])\n",
    "evaltopics(args2, topicroot, iterations, axes[1])\n",
    "\n",
    "plt.tight_layout()\n",
    "plt.show()"
   ]
  },
  {
   "cell_type": "markdown",
   "metadata": {},
   "source": [
    "## Warm-start training of N(T)-dSB-DP using LDA topics"
   ]
  },
  {
   "cell_type": "markdown",
   "metadata": {},
   "source": [
    "### T-dSB-DP versus number of minibatches"
   ]
  },
  {
   "cell_type": "code",
   "execution_count": 16,
   "metadata": {},
   "outputs": [],
   "source": [
    "def warm(K, T, D, method, inroot, heldoutroot, tau, kappa, topicinfo, expset, ax):\n",
    "    \"\"\"\n",
    "    Inputs:\n",
    "        K: corpus-level truncation\n",
    "        T: document-level truncation\n",
    "        D: mini-batch size \n",
    "        tau:\n",
    "        kappa:\n",
    "        inroot: \"wiki10k\" for instance\n",
    "        heldoutroot: \"wiki1k\" for instance\n",
    "        expset: list of experimental seeds\n",
    "    Outputs:\n",
    "        plots LL of thdp versus number of mini-batches\n",
    "    \"\"\"\n",
    "    \n",
    "    # find the right directory\n",
    "    topicfile = maketopicfile(topicinfo)\n",
    "    LL = []\n",
    "    ## load experiments\n",
    "    for seed in expset:\n",
    "        _, LLsavename = makesaves(K, T, D, inroot, heldoutroot, seed, topicfile, \"thdp\", tau, kappa)\n",
    "        result = np.loadtxt(LLsavename)\n",
    "        batchcounts = result[:,0]\n",
    "        LL.append(result[:,2])\n",
    "        \n",
    "    LL = np.array(LL) # shape len(expset) x maxbatchcount\n",
    "    LLavg = np.mean(LL, axis=0) # shape (maxbatchcount,)\n",
    "    LLerr = np.std(LL, axis=0) # shape (maxbatchcount,)\n",
    "    \n",
    "    fig = plt.figure()\n",
    "    ax.errorbar(batchcounts, LLavg, yerr=LLerr,label=method)\n",
    "    ax.set_title('K = %d, T = %d, D = %d' %(K,T,D))\n",
    "    ax.set_xlabel('Number of mini-batches')\n",
    "    ax.set_ylabel('Held-out log-likelihood')\n",
    "    ax.legend()\n",
    "    \n",
    "    return\n"
   ]
  },
  {
   "cell_type": "code",
   "execution_count": 17,
   "metadata": {},
   "outputs": [
    {
     "data": {
      "image/png": "[encoded data removed]",
      "text/plain": [
       "<Figure size 432x288 with 1 Axes>"
      ]
     },
     "metadata": {
      "needs_background": "light"
     },
     "output_type": "display_data"
    }
   ],
   "source": [
    "topicinfo = [\"LDA\",\"results/ldaK100_D50_wiki10k_wiki1k/\",\"100\"]\n",
    "fig, axes = plt.subplots(1,2,(8,4))\n",
    "warm(100, 10, 50, \"thdp\",\"wiki10k\", \"wiki1k\", 1024., 0.7, topicinfo, range(0,2),axes[0])\n",
    "warm(100, 10, 50, \"thdp\",\"wiki10k\", \"wiki1k\", 1024., 0.7, topicinfo, range(0,2),axes[0])\n",
    "plt.tight_layout()\n",
    "plt.show()"
   ]
  }
 ],
 "metadata": {
  "kernelspec": {
   "display_name": "Python 3",
   "language": "python",
   "name": "python3"
  },
  "language_info": {
   "codemirror_mode": {
    "name": "ipython",
    "version": 3
   },
   "file_extension": ".py",
   "mimetype": "text/x-python",
   "name": "python",
   "nbconvert_exporter": "python",
   "pygments_lexer": "ipython3",
   "version": "3.6.9"
  },
  "latex_envs": {
   "LaTeX_envs_menu_present": true,
   "autoclose": false,
   "autocomplete": true,
   "bibliofile": "biblio.bib",
   "cite_by": "apalike",
   "current_citInitial": 1,
   "eqLabelWithNumbers": true,
   "eqNumInitial": 1,
   "hotkeys": {
    "equation": "Ctrl-E",
    "itemize": "Ctrl-I"
   },
   "labels_anchors": false,
   "latex_user_defs": false,
   "report_style_numbering": false,
   "user_envs_cfg": false
  },
  "toc": {
   "base_numbering": 1,
   "nav_menu": {},
   "number_sections": true,
   "sideBar": true,
   "skip_h1_title": false,
   "title_cell": "Table of Contents",
   "title_sidebar": "Contents",
   "toc_cell": false,
   "toc_position": {},
   "toc_section_display": true,
   "toc_window_display": false
  },
  "varInspector": {
   "cols": {
    "lenName": 16,
    "lenType": 16,
    "lenVar": 40
   },
   "kernels_config": {
    "python": {
     "delete_cmd_postfix": "",
     "delete_cmd_prefix": "del ",
     "library": "var_list.py",
     "varRefreshCmd": "print(var_dic_list())"
    },
    "r": {
     "delete_cmd_postfix": ") ",
     "delete_cmd_prefix": "rm(",
     "library": "var_list.r",
     "varRefreshCmd": "cat(var_dic_list()) "
    }
   },
   "types_to_exclude": [
    "module",
    "function",
    "builtin_function_or_method",
    "instance",
    "_Feature"
   ],
   "window_display": false
  }
 },
 "nbformat": 4,
 "nbformat_minor": 2
}
