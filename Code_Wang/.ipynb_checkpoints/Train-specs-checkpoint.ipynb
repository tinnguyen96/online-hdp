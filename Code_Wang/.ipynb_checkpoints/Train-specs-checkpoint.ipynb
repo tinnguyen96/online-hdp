{
 "cells": [
  {
   "cell_type": "markdown",
   "metadata": {},
   "source": [
    "# No noise, potential stuck in bad optima"
   ]
  },
  {
   "cell_type": "code",
   "execution_count": 1,
   "metadata": {},
   "outputs": [],
   "source": [
    "from utils import GEM_expectation\n",
    "from scipy.stats import entropy\n",
    "import matplotlib.pyplot as plt"
   ]
  },
  {
   "cell_type": "code",
   "execution_count": 5,
   "metadata": {},
   "outputs": [],
   "source": [
    "def degen(exproot, num_docs, ax1, ax2):\n",
    "    \"\"\"\n",
    "    Inputs:\n",
    "        topicroot: \"results/corpus-wiki-kappa-0.7-tau-1024-batchsize-100/\" for instance\n",
    "        num_docs: \"[500, 1000, 1500]\", for instance\n",
    "        ax1, ax2: where to plot\n",
    "    Outputs:\n",
    "        interpret the expected topic proportions as a distribution over \n",
    "        topics; plot the entropy and the top two differences for different\n",
    "        number of mini-batches in iterations\n",
    "    \"\"\"\n",
    "    ents = []\n",
    "    top2diff = []\n",
    "    \n",
    "    for t in num_docs:\n",
    "        testa = np.loadtxt(exproot + \"doc_count-\" + str(t) + \".a\")\n",
    "        testb = np.loadtxt(exproot + \"doc_count-\" + str(t) + \".b\")\n",
    "        probs = GEM_expectation(testa[np.newaxis,:],testb[np.newaxis,:]).flatten()\n",
    "        # sort topics first by probs\n",
    "        idx = [i for i in reversed(np.argsort(probs))]\n",
    "        probs = probs[idx]\n",
    "        # entropy\n",
    "        ents.append(entropy(probs))\n",
    "        # top2diff\n",
    "        top2diff.append(probs[0]-probs[1])\n",
    "        \n",
    "    ax.plot(num_docs,ents,label='Entropy',marker='o')\n",
    "    ax.plot(num_docs,top2diff,label='top2diff',marker='o')\n",
    "    ax.set_xlabel(\"Number of documents seen\")\n",
    "    ax.legend()\n",
    "    \n",
    "    return"
   ]
  },
  {
   "cell_type": "code",
   "execution_count": 6,
   "metadata": {},
   "outputs": [
    {
     "data": {
      "image/png": "[encoded data removed]",
      "text/plain": [
       "<Figure size 432x288 with 1 Axes>"
      ]
     },
     "metadata": {
      "needs_background": "light"
     },
     "output_type": "display_data"
    }
   ],
   "source": [
    "plt.figure()\n",
    "\n",
    "degen(\"results/corpus-wiki-kappa-0.7-tau-1024-batchsize-100/\", range(500,20000,500), plt.gca())\n",
    "\n",
    "plt.show()"
   ]
  },
  {
   "cell_type": "markdown",
   "metadata": {},
   "source": [
    "## Cold-start degeneracy"
   ]
  },
  {
   "cell_type": "code",
   "execution_count": null,
   "metadata": {},
   "outputs": [],
   "source": [
    "fig, axes = plt.subplots(1,2,figsize=(8,4))\n",
    "degen(\"thdp\", \"results/thdpK100_T10_D20_wiki10k_wiki1k\", range(0,4000,400), axes[0])\n",
    "degen(\"nhdp\", \"results/nhdpK100_T10_D20_wiki10k_wiki1k\", range(0,4000,400), axes[1])\n",
    "plt.tight_layout()\n",
    "plt.show()"
   ]
  },
  {
   "cell_type": "markdown",
   "metadata": {},
   "source": [
    "## Warm-start degenerate"
   ]
  },
  {
   "cell_type": "code",
   "execution_count": null,
   "metadata": {},
   "outputs": [],
   "source": [
    "fig, axes = plt.subplots(1,2,figsize=(8,4))\n",
    "degen(\"thdp\", \"results/thdpK100_T10_D50_wiki10k_wiki1k/tau1024,0_kappa0,7/warm/ldaK100_D50_wiki10k_wiki1k/lambda-100\", \\\n",
    "      range(0,3000,100), axes[0])\n",
    "degen(\"nhdp\", \"results/nhdpK100_T10_D50_wiki10k_wiki1k/tau1024,0_kappa0,7/warm/ldaK100_D50_wiki10k_wiki1k/lambda-100\", \\\n",
    "      range(0,3000,100), axes[1])\n",
    "plt.tight_layout()\n",
    "plt.show()"
   ]
  },
  {
   "cell_type": "markdown",
   "metadata": {},
   "source": [
    "## Degenerate $\\zeta$ from E-step\n",
    "The rows of $\\zeta$ are the topic-to-topic distributions. On some documents, the topic $k$ with the highest probability can have weight $1$ across all $T$."
   ]
  },
  {
   "cell_type": "markdown",
   "metadata": {},
   "source": [
    "# Purposefully add noise to escape local maxima"
   ]
  },
  {
   "cell_type": "markdown",
   "metadata": {
    "heading_collapsed": true
   },
   "source": [
    "## Wang's onlinehdp.py \n",
    "The sufficient statistics to update topics, m_var_beta_ss, is randomly perturbed. For each topic k, find a vector whose magnitude should roughly be the same as m_var_beta_ss[k]. Let the amount of perturbation be large initially (mu = mu0 *1000.0 / (self.m_updatect + 1000)) where mu0 is some small number."
   ]
  },
  {
   "cell_type": "markdown",
   "metadata": {},
   "source": [
    "# Change the forgetting rate"
   ]
  }
 ],
 "metadata": {
  "kernelspec": {
   "display_name": "Python 3",
   "language": "python",
   "name": "python3"
  },
  "language_info": {
   "codemirror_mode": {
    "name": "ipython",
    "version": 3
   },
   "file_extension": ".py",
   "mimetype": "text/x-python",
   "name": "python",
   "nbconvert_exporter": "python",
   "pygments_lexer": "ipython3",
   "version": "3.6.9"
  },
  "latex_envs": {
   "LaTeX_envs_menu_present": true,
   "autoclose": false,
   "autocomplete": true,
   "bibliofile": "biblio.bib",
   "cite_by": "apalike",
   "current_citInitial": 1,
   "eqLabelWithNumbers": true,
   "eqNumInitial": 1,
   "hotkeys": {
    "equation": "Ctrl-E",
    "itemize": "Ctrl-I"
   },
   "labels_anchors": false,
   "latex_user_defs": false,
   "report_style_numbering": false,
   "user_envs_cfg": false
  },
  "toc": {
   "base_numbering": 1,
   "nav_menu": {},
   "number_sections": true,
   "sideBar": true,
   "skip_h1_title": false,
   "title_cell": "Table of Contents",
   "title_sidebar": "Contents",
   "toc_cell": false,
   "toc_position": {},
   "toc_section_display": true,
   "toc_window_display": false
  },
  "varInspector": {
   "cols": {
    "lenName": 16,
    "lenType": 16,
    "lenVar": 40
   },
   "kernels_config": {
    "python": {
     "delete_cmd_postfix": "",
     "delete_cmd_prefix": "del ",
     "library": "var_list.py",
     "varRefreshCmd": "print(var_dic_list())"
    },
    "r": {
     "delete_cmd_postfix": ") ",
     "delete_cmd_prefix": "rm(",
     "library": "var_list.r",
     "varRefreshCmd": "cat(var_dic_list()) "
    }
   },
   "types_to_exclude": [
    "module",
    "function",
    "builtin_function_or_method",
    "instance",
    "_Feature"
   ],
   "window_display": false
  }
 },
 "nbformat": 4,
 "nbformat_minor": 2
}
